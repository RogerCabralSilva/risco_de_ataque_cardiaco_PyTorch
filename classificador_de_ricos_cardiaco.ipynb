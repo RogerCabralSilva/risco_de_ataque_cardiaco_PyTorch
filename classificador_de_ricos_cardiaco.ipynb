{
 "cells": [
  {
   "cell_type": "code",
   "execution_count": null,
   "id": "10a97ed1",
   "metadata": {},
   "outputs": [],
   "source": [
    "# Framework Pytorch\n",
    "\n",
    "import torch\n",
    "import torch.nn as nn\n",
    "\n",
    "# Otimizador (Adam)\n",
    "import torch.optim as optim\n",
    "\n",
    "# Carregar os dados como batches\n",
    "from torch.utils.data  import DataLoader, TensorDataset\n",
    "\n",
    "# manipulação de dados\n",
    "import pandas as pd\n",
    "import numpy as np\n",
    "\n",
    "# separa entre test e treino\n",
    "from sklearn.model_selection import train_test_split\n",
    "\n",
    "# Normaliza os dados\n",
    "from  sklearn.preprocessing import StandardScaler\n",
    "\n",
    "# Gráfico\n",
    "import matplotlib.pyplot as plt"
   ]
  },
  {
   "cell_type": "code",
   "execution_count": null,
   "id": "791f7a40",
   "metadata": {},
   "outputs": [],
   "source": []
  }
 ],
 "metadata": {
  "kernelspec": {
   "display_name": "base",
   "language": "python",
   "name": "python3"
  },
  "language_info": {
   "codemirror_mode": {
    "name": "ipython",
    "version": 3
   },
   "file_extension": ".py",
   "mimetype": "text/x-python",
   "name": "python",
   "nbconvert_exporter": "python",
   "pygments_lexer": "ipython3",
   "version": "3.11.7"
  }
 },
 "nbformat": 4,
 "nbformat_minor": 5
}
